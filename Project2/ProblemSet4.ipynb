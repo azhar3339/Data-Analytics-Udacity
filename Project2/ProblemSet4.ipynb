{
 "cells": [
  {
   "cell_type": "code",
   "execution_count": 3,
   "metadata": {
    "collapsed": false
   },
   "outputs": [
    {
     "name": "stdout",
     "output_type": "stream",
     "text": [
      "(131951, 2)\n"
     ]
    }
   ],
   "source": [
    "import pandas as pd\n",
    "from ggplot import *\n",
    "\n",
    "df = pd.read_csv('/home/azhar/Dropbox/Udacity/Data-Analytics-Udacity/Project2/Data/turnstile_data_master_with_weather.csv')\n",
    "df = df[['ENTRIESn_hourly','rain']]\n",
    "print df.shape\n",
    "# print df['ENTRIESn_hourly']\n",
    "# print ggplot(df,aes('Hour','ENTRIESn_hourly')) + \\\n",
    "#                   geom_point() + \\\n",
    "#                   ggtitle(\"Hourly Entries\") "
   ]
  },
  {
   "cell_type": "code",
   "execution_count": null,
   "metadata": {
    "collapsed": false
   },
   "outputs": [],
   "source": [
    "plot = ggplot(df,aes('ENTRIESn_hourly')) + \\\n",
    "        geom_histogram(data=df[df['rain'] == 0], fill = \"red\", alpha = 0.2, binwidth=0.1) + \\\n",
    "        geom_histogram(data=df[df['rain'] == 0], fill = \"blue\", alpha = 0.2, binwidth=0.1) "
   ]
  },
  {
   "cell_type": "code",
   "execution_count": null,
   "metadata": {
    "collapsed": true
   },
   "outputs": [],
   "source": []
  },
  {
   "cell_type": "code",
   "execution_count": null,
   "metadata": {
    "collapsed": true
   },
   "outputs": [],
   "source": []
  }
 ],
 "metadata": {
  "kernelspec": {
   "display_name": "Python 2",
   "language": "python",
   "name": "python2"
  },
  "language_info": {
   "codemirror_mode": {
    "name": "ipython",
    "version": 2
   },
   "file_extension": ".py",
   "mimetype": "text/x-python",
   "name": "python",
   "nbconvert_exporter": "python",
   "pygments_lexer": "ipython2",
   "version": "2.7.10"
  }
 },
 "nbformat": 4,
 "nbformat_minor": 0
}
