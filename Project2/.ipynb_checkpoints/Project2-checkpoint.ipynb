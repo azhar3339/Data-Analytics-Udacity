{
 "cells": [
  {
   "cell_type": "markdown",
   "metadata": {},
   "source": [
    "***\n",
    "# Analyzing the NYC Subway Dataset\n",
    "***"
   ]
  },
  {
   "cell_type": "markdown",
   "metadata": {},
   "source": [
    "***\n",
    "## Section 0 : References"
   ]
  },
  {
   "cell_type": "markdown",
   "metadata": {},
   "source": [
    "http://felixfan.github.io/rstudy/2013/11/27/ggplot2-remove-grid-background-margin/\n",
    "\n",
    "http://stackoverflow.com/questions/24564789/python-ggplot-syntax-to-annotate-chart-with-statsmodels-variable\n",
    "\n",
    "http://stackoverflow.com/questions/17690738/in-pandas-how-do-i-convert-a-string-of-date-strings-to-datetime-objects-and-put\n",
    "\n",
    "http://stackoverflow.com/questions/25290576/highlight-weekends-using-ggplot\n",
    "\n",
    "http://stackoverflow.com/questions/28009370/get-weekday-for-datetime-in-pandas-dataframe\n",
    "***"
   ]
  },
  {
   "cell_type": "markdown",
   "metadata": {},
   "source": [
    "***\n",
    "## Section 1 : Statistical Test"
   ]
  },
  {
   "cell_type": "markdown",
   "metadata": {},
   "source": [
    "__Mann Whitney U test  __  \n",
    "Reasons for using this test\n",
    "  * The data for the entries per hour during rainy and non rainy days does not follow a normal distribution.\n",
    "  * It is a non-parametric test and does not make any assumptions about the underlying probability distribution.  \n",
    "  \n",
    "\n",
    "__Null Hypothesis $H_0$:__ Let $X$ and $Y$ denote the population of ridership on rainy and non-rainy days respectively. Let $x$ be the random samples taken from population $X$  abd $y$ be the random samples drawn from population $Y$. The null hypothesis states that $P(x > y) = 0.5$ i.e., the ridership on rainy days is likely to be higher than on non-rainy days.\n",
    "\n",
    "\n",
    "__Two tailed test will be used as we would like to know if the samples drawn from rainy days are likely to be higher than the samples drawn from non-rainy days and this is what the standard Mann Whitney U test does__\n",
    "\n",
    "\n",
    "__P-critical value = 0.05__\n",
    "\n",
    "\n",
    "__Results  __\n",
    "  * Mean on rainy days: 1105.446\n",
    "  * Mean on non-rainy days: 1090.279\n",
    "  * P value: 0.025*2 = 0.05 (Rounded to three decimal places)\n",
    "\n",
    "\n",
    "__Since the P-value  returned is for a one sided t-test, by multiplyig it with 2 we get the P-value for a two sided test and it is equal to 0.05. Hence we can conclude that there is not enough evidence to discard the null hypothesis. Also this means that the samples drawn from raniy days are likely to be higher than the samples drawn from non-rainy days__\n",
    "***"
   ]
  },
  {
   "cell_type": "markdown",
   "metadata": {},
   "source": [
    "***\n",
    "## Section 2 : Linear Regression"
   ]
  },
  {
   "cell_type": "markdown",
   "metadata": {},
   "source": [
    "__Approach__ : OLS using stats models  \n",
    "\n",
    "\n",
    "__Features Used__ : The features used are 'rain', 'precipi', 'Hour', 'meantempi' and 'UNIT' \n",
    "\n",
    "\n",
    "__Reason for using that particular feature__ : To start with I experimented by adding the obviously straightforward features like 'rain' and 'fog' but they did not gie a better $R^2$ value and hence by trial and error I ended up with the feature 'UNIT'.   \n",
    "\n",
    "\n",
    "__Parameters of the non dummy variables__:  \n",
    "  * rain :          29.464529\n",
    "  * precipi :       28.726380\n",
    "  * Hour   :        65.334565\n",
    "  * meantempi :    -10.531825  \n",
    "  \n",
    "  \n",
    "__$R^2$__ : 0.47924770782. Given the $R^2$ value I don't think it is an ideal model to predict the hourly entries.  \n",
    "***"
   ]
  },
  {
   "cell_type": "markdown",
   "metadata": {},
   "source": [
    "***\n",
    "## Section 3 : Visualization"
   ]
  },
  {
   "cell_type": "markdown",
   "metadata": {},
   "source": [
    "The histogram below shows that the number of entries per hour is consistently higher across all the bins for non-rainy days.\n",
    "\n",
    "<img src=\"plot1.png\">\n",
    "\n",
    "The scatter plot below shows that during weekends there is significantly less usage of the subway apart from one exception on May 30 but as it turns out that is a US memorial day holiday and hence the less usage. Also among the weekdays there is slightly low usage for Mondays.\n",
    "\n",
    "<img src=\"plot2.png\">"
   ]
  },
  {
   "cell_type": "markdown",
   "metadata": {
    "collapsed": true
   },
   "source": [
    "## Code used for Visualization  \n",
    "\n",
    "This does not work on the Udacity platform possibly because of the issues with latest pandas version and compatibility with ggplot2."
   ]
  },
  {
   "cell_type": "code",
   "execution_count": 7,
   "metadata": {
    "collapsed": true
   },
   "outputs": [],
   "source": [
    "def get_plots (turnstile_data):\n",
    "\n",
    "    df =  turnstile_data\n",
    "    df1 = df[['ENTRIESn_hourly','rain']]\n",
    "    dataText=pd.DataFrame.from_items([('x',[3000,3000]),('y',[5000,4500]),('text',['Black: Non rainy days','Blue:Rainy days'])])\n",
    "\n",
    "    # #########First plot\n",
    "    plot =  ggplot(df1,aes('ENTRIESn_hourly')) + \\\n",
    "            geom_histogram(data=df[df['rain'] == 0], fill = \"black\", alpha = 0.5,binwidth = 50) + \\\n",
    "            geom_histogram(data=df[df['rain'] == 1], fill = \"blue\", alpha = 0.5,binwidth = 50) +\\\n",
    "            scale_x_discrete(limits = [0, 5000]) +\\\n",
    "            scale_y_discrete(limits = [0, 6000]) +\\\n",
    "            theme_bw() +\\\n",
    "            xlab(\"Entries per Hour\") +\\\n",
    "            ylab(\"Frequency\") +\\\n",
    "            ggtitle(\"Distribution of entries per hour during raniny and normal days\") +\\\n",
    "            geom_text(aes(x='x', y='y', label='text'), data=dataText)\n",
    "\n",
    "    print plot\n",
    "\n",
    "    #############Second plot\n",
    "    unique_dates = df['DATEn'].unique()\n",
    "\n",
    "    df1 = df[['ENTRIESn_hourly','DATEn']]\n",
    "    df1_groupMean = df1.groupby(['DATEn'],as_index = False).agg(['mean'])\n",
    "\n",
    "    df2 = pd.DataFrame({'Dates': unique_dates,\n",
    "                        'Mean': list(df1_groupMean.ix[:,0])})\n",
    "\n",
    "    df2['Dates'] = pd.to_datetime(pd.Series(df2['Dates']))\n",
    "\n",
    "    df2['weekdays'] = df2['Dates'].dt.dayofweek\n",
    "\n",
    "    df2['weekdays'] = df2['weekdays'].replace(5,\"Weekend\")\n",
    "    df2['weekdays'] = df2['weekdays'].replace(6,\"Weekend\")\n",
    "    df2['weekdays'] = df2['weekdays'].replace(0,\"Weekday\")\n",
    "    df2['weekdays'] = df2['weekdays'].replace(1,\"Weekday\")\n",
    "    df2['weekdays'] = df2['weekdays'].replace(2,\"Weekday\")\n",
    "    df2['weekdays'] = df2['weekdays'].replace(3,\"Weekday\")\n",
    "    df2['weekdays'] = df2['weekdays'].replace(4,\"Weekday\")\n",
    "\n",
    "\n",
    "    plot2 = ggplot(df2,aes(y = 'Mean', color = 'weekdays')) +\\\n",
    "            geom_point(aes(x='Dates')) +\\\n",
    "            xlab(\"Date\") +\\\n",
    "            ylab(\"Mean entries per hour\") +\\\n",
    "            ggtitle(\"Weekday vs Weekend Ridership\") +\\\n",
    "            theme_bw()\n",
    "\n",
    "    print plot2\n",
    "\n",
    "    "
   ]
  },
  {
   "cell_type": "markdown",
   "metadata": {},
   "source": [
    "***\n",
    "## Section 4 : Conclusion"
   ]
  },
  {
   "cell_type": "markdown",
   "metadata": {},
   "source": [
    "From my analysis, more people travel during the rainy days. This conclusion can be drawn from the statistical analysis of section 1 where the P-value was equal to the P-critical value of 0.05, and from the analysis we could not reject the null hypothesis.\n",
    "\n",
    "\n",
    "Also from the linear regression, the parameter for the coefficient if  feature 'rain' is 29.464529. This shows that there is a positive relationship between 'rain' and the output variable 'Entries per hour'\n",
    "\n",
    "***"
   ]
  },
  {
   "cell_type": "markdown",
   "metadata": {},
   "source": [
    "***\n",
    "## Section 5 : Reflection"
   ]
  },
  {
   "cell_type": "markdown",
   "metadata": {},
   "source": [
    "The dataset provided contains the data for only one month and it cannot be representative of the entire population. There are many other factors which we cannot control in this experiments, there are too many participants and too many factors influencing thir choice to take the subway or not. Hence we cannot draw a causal inference from the analysis carried out in this study.\n",
    "\n",
    "Also the model used to predict the hourly entries has an $R^2$ value less than 0.5 and the results from this model may not be reliable.\n",
    "***"
   ]
  }
 ],
 "metadata": {
  "kernelspec": {
   "display_name": "Python 2",
   "language": "python",
   "name": "python2"
  },
  "language_info": {
   "codemirror_mode": {
    "name": "ipython",
    "version": 2
   },
   "file_extension": ".py",
   "mimetype": "text/x-python",
   "name": "python",
   "nbconvert_exporter": "python",
   "pygments_lexer": "ipython2",
   "version": "2.7.10"
  }
 },
 "nbformat": 4,
 "nbformat_minor": 0
}
