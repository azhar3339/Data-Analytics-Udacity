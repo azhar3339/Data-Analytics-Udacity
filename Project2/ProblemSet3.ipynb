{
 "cells": [
  {
   "cell_type": "code",
   "execution_count": 7,
   "metadata": {
    "collapsed": false
   },
   "outputs": [],
   "source": [
    "###Exploratory Data Analysis\n",
    "import pandas as pd\n",
    "import matplotlib.pyplot as plt\n",
    "turnstile_weather = pd.read_csv('/home/azhar/Dropbox/Udacity/Data-Analytics-Udacity/Project2/Data/turnstile_data_master_with_weather.csv')\n",
    "plt.figure()\n",
    "turnstile_weather[turnstile_weather['rain'] == 1]['ENTRIESn_hourly'].hist()\n",
    "turnstile_weather[turnstile_weather['rain'] == 0]['ENTRIESn_hourly'].hist()\n",
    "plt.show()\n"
   ]
  },
  {
   "cell_type": "code",
   "execution_count": 10,
   "metadata": {
    "collapsed": false
   },
   "outputs": [
    {
     "name": "stdout",
     "output_type": "stream",
     "text": [
      "1105.44637675 1090.27878015 1924409167.0 0.0249999127935\n"
     ]
    }
   ],
   "source": [
    "###Mann Whitney U test\n",
    "import numpy as np \n",
    "from scipy.stats import mannwhitneyu\n",
    "\n",
    "with_rain = turnstile_weather[turnstile_weather['rain'] == 1]['ENTRIESn_hourly']\n",
    "without_rain = turnstile_weather[turnstile_weather['rain'] == 0]['ENTRIESn_hourly']\n",
    "\n",
    "with_rain_mean = np.mean(with_rain)\n",
    "without_rain_mean = np.mean(without_rain)\n",
    "\n",
    "U, p = mannwhitneyu(with_rain,without_rain)\n",
    "\n",
    "print with_rain_mean, without_rain_mean, U, p\n"
   ]
  },
  {
   "cell_type": "code",
   "execution_count": null,
   "metadata": {
    "collapsed": true
   },
   "outputs": [],
   "source": []
  }
 ],
 "metadata": {
  "kernelspec": {
   "display_name": "Python 2",
   "language": "python",
   "name": "python2"
  },
  "language_info": {
   "codemirror_mode": {
    "name": "ipython",
    "version": 2
   },
   "file_extension": ".py",
   "mimetype": "text/x-python",
   "name": "python",
   "nbconvert_exporter": "python",
   "pygments_lexer": "ipython2",
   "version": "2.7.10"
  }
 },
 "nbformat": 4,
 "nbformat_minor": 0
}
