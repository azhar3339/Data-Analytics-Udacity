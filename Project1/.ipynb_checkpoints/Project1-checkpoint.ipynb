{
 "cells": [
  {
   "cell_type": "markdown",
   "metadata": {},
   "source": [
    "***\n",
    "# Statistics: The Science of Decisions \n"
   ]
  },
  {
   "cell_type": "markdown",
   "metadata": {},
   "source": [
    "\n",
    "## Stroop Task Investigation\n",
    "***"
   ]
  },
  {
   "cell_type": "markdown",
   "metadata": {},
   "source": [
    "***\n",
    "## 1. Dependent and Independent Variable\n",
    "\n",
    "__Independent Variable__: The words being displayed i.e congruent or incongruent.\n",
    "\n",
    "__Dependent Variable__: Time taken to name the ink color.\n",
    "***"
   ]
  },
  {
   "cell_type": "markdown",
   "metadata": {},
   "source": [
    "***\n",
    "## 2. Hypothesis\n",
    "\n",
    "__Null Hypothesis: H<sub>0</sub>: __ The Incongruent trial can be completed in as much time as it takes to complete the Congruent trial or even less. __&mu;<sub>c</sub>__ &ge; __&mu;<sub>ic</sub>__\n",
    "\n",
    "__Alternate Hypothesis: H<sub>1</sub>:__ It takes longer to complete the incongruent trial. __&mu;<sub>c</sub>__&lt; __&mu;<sub>ic</sub>__  \n",
    "\n",
    "We need to do a 2 tailed t-test since we are not concerned about the direction of the error we only have to check if there was a significant difference in the means for the two tasks.  \n",
    "\n",
    "A one-tailed test in a positive direction needs to be carried out as we expect the value of $ \\bar X$ to be greater than &mu;\n",
    "***"
   ]
  },
  {
   "cell_type": "markdown",
   "metadata": {
    "collapsed": true
   },
   "source": [
    "***\n",
    "##3. Descriptive Statistics\n",
    "\n",
    "__Congruent__\n",
    "  * Mean: 14.051125  \n",
    "  * Median: 14.3565  \n",
    "  * Variance: 12.1411528594  \n",
    "  * Standard Deviation 3.48441571277  \n",
    "\n",
    "\n",
    "__Incongruent__\n",
    "  * Mean: 22.0159166667  \n",
    "  * Median: 21.0175  \n",
    "  * Variance: 22.0529338264  \n",
    "  * Standard Deviation 4.69605513451  \n",
    "***"
   ]
  },
  {
   "cell_type": "markdown",
   "metadata": {},
   "source": [
    "***\n",
    "##4. Plots\n",
    "\n",
    "__The most frequent times for congruent tasks arealmost evenly distributed between 7.5 and 17.5__  <img src=\"image1.png\">  \n",
    "__Whereas in the case of incongruent tasks, the most the bin with the highest frequency is 20 to 24__<img src=\"image.png\"> \n",
    "__The below bar chart shows that the times taken for incongruent set of words are consistently higher than congruent set of words__<img src=\"image2.png\">\n",
    "***"
   ]
  },
  {
   "cell_type": "markdown",
   "metadata": {},
   "source": [
    "##5. Performing the statistical test\n",
    "Assumptions:  \n",
    "Population = Congruent Trial  \n",
    "Sample = Incongruent Trial  \n",
    "&alpha; = 0.05\n",
    "\n",
    "\n",
    "Population mean = 14.05  \n",
    "Sample Mean = 22.02  \n",
    "number of samples n = 24  \n",
    "degrees of freedom df = 23    \n",
    "t-critical = 1.714  \n",
    "Sample Standard Deviation = 23.01  \n",
    "Standard Error of Mean = 4.7  \n",
    "Mean difference = 7.96  \n",
    "t-statistic t = 1.70  \n",
    "\n",
    "The t-statistic does not fall in the critical region, it is just outside the critical region for the 95% confidence interval.\n",
    "\n",
    "The value of P is hence greater than .05\n",
    "\n",
    "The results are not Statistically significant. Hence the null hypothesis cannot be rejected. \n",
    "\n",
    "These results do not match up with my expectation.\n",
    "\n"
   ]
  },
  {
   "cell_type": "markdown",
   "metadata": {},
   "source": [
    "***\n",
    "## 6. Reasons behind Stroop Effect and other similar tasks\n",
    "\n",
    "The reason for this behavior is human brain can read the words automatically or faster then it takes to identify the color.  \n",
    "\n",
    "  * __Proofreading:__ Another similar example would be that human brain is adept at perceiving the whole word then recognizing each individual character and hence proofreading is difficult. \n",
    "\n",
    "  * __Numerical Stroop Effect:__. In the numerical variation of the stroop effect, the relationship between numerical values and their physical sizes is studied. Participants are asked to given two digits and asked to find the relationship between them but their physical sizes differ. Again in this case the congruent trial is easy when compared to incongruent trial. \n",
    "\n",
    "References:  \n",
    "https://en.wikipedia.org/wiki/Stroop_effect  \n",
    "http://www.snre.umich.edu/eplab/demos/st0/stroopdesc.html\n",
    "***"
   ]
  },
  {
   "cell_type": "code",
   "execution_count": null,
   "metadata": {
    "collapsed": true
   },
   "outputs": [],
   "source": []
  }
 ],
 "metadata": {
  "kernelspec": {
   "display_name": "Python 2",
   "language": "python",
   "name": "python2"
  },
  "language_info": {
   "codemirror_mode": {
    "name": "ipython",
    "version": 2
   },
   "file_extension": ".py",
   "mimetype": "text/x-python",
   "name": "python",
   "nbconvert_exporter": "python",
   "pygments_lexer": "ipython2",
   "version": "2.7.10"
  }
 },
 "nbformat": 4,
 "nbformat_minor": 0
}
