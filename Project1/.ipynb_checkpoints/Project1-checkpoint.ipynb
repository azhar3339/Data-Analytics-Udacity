{
 "cells": [
  {
   "cell_type": "markdown",
   "metadata": {},
   "source": [
    "***\n",
    "# Statistics: The Science of Decisions\n"
   ]
  },
  {
   "cell_type": "markdown",
   "metadata": {},
   "source": [
    "\n",
    "## Stroop Task Investigation\n",
    "***"
   ]
  },
  {
   "cell_type": "markdown",
   "metadata": {},
   "source": [
    "***\n",
    "## 1. Dependent and Independent Variable\n",
    "\n",
    "__Independent Variable__: The words being displayed i.e congruent or incongruent.\n",
    "\n",
    "__Dependent Variable__: Time taken to name the ink color.\n",
    "***"
   ]
  },
  {
   "cell_type": "markdown",
   "metadata": {},
   "source": [
    "***\n",
    "## 2. Hypothesis\n",
    "\n",
    "Let population mean from Congruent trial and Incongruent trial be denoted as __&mu;<sub>c</sub>__ and  __&mu;<sub>ic</sub>__ respectively.  \n",
    "\n",
    "The data provided contains samples from 24 participants. The research question we are trying to answer is to find if there is a significant difference in the population means of the given samples. Since it is a controlled experiment, in this case we can also be sure of a causal inference. \n",
    "\n",
    "__Null Hypothesis: H<sub>0</sub>: __ &mu;<sub>c</sub> =  &mu;<sub>ic</sub> i.e., there is no significant difference between the population means for congruent and incongruent trials.\n",
    "\n",
    "__Alternate Hypothesis: H<sub>1</sub>:__ &mu;<sub>c</sub> $\\neq$ &mu;<sub>ic</sub> i.e., there is a significant difference between the times taken for both the trials.   \n",
    "\n",
    "We need to do a 2 tailed t-test since we are not concerned about the direction of the error we only have to check if there was a significant difference in the population means for the two tasks.  \n",
    "\n",
    "In the Stroop test, same participant is shown two set of words and hence the samples given are dependent samples. Hence the above mentioned Null Hypothesis can also be defined as  &mu;<sub>c</sub> -  &mu;<sub>ic</sub> = 0\n",
    "***"
   ]
  },
  {
   "cell_type": "markdown",
   "metadata": {
    "collapsed": true
   },
   "source": [
    "***\n",
    "##3. Descriptive Statistics\n",
    "\n",
    "__Congruent__\n",
    "  * Mean: 14.05   \n",
    "  * Median: 14.36   \n",
    "  * Standard Deviation 3.56 \n",
    "\n",
    "\n",
    "__Incongruent__\n",
    "  * Mean: 22.02 \n",
    "  * Median: 21.02  \n",
    "  * Standard Deviation 4.80 \n",
    "***"
   ]
  },
  {
   "cell_type": "markdown",
   "metadata": {},
   "source": [
    "***\n",
    "##4. Plots\n",
    "\n",
    "__The most frequent times for congruent tasks arealmost evenly distributed between 7.5 and 17.5__  <img src=\"image1.png\">  \n",
    "__Whereas in the case of incongruent tasks, the most the bin with the highest frequency is 20 to 24__<img src=\"image.png\"> \n",
    "__The below bar chart shows that the times taken for incongruent set of words are consistently higher than congruent set of words__<img src=\"image2.png\">\n",
    "***"
   ]
  },
  {
   "cell_type": "markdown",
   "metadata": {},
   "source": [
    "##5. Performing the statistical test\n",
    "\n",
    "Mean of the differences = -7.96\n",
    "Standard deviation of the differences = 4.86\n",
    "t-statistic = -8.02  \n",
    "t-critical = +2.069, -2.069 for two tailed t-test with &alpha; value 0.05 and 23 degrees of freedom\n",
    "\n",
    "The t-statistic falls in the critical region, it is just outside the critical region for the 95% confidence interval.\n",
    "\n",
    "The value of P is hence less than .05\n",
    "\n",
    "The results are Statistically significant. Hence the null hypothesis can be rejected. This means that participants took significantly less time to complete the Congruent trial.\n",
    "\n",
    "Since this was a controlled experiment we can say that the types of word shown had a causal effect on the time taken to finish the task, in this case congruent or incongruent.\n",
    "\n",
    "These results match my expectations.\n",
    "\n"
   ]
  },
  {
   "cell_type": "markdown",
   "metadata": {},
   "source": [
    "***\n",
    "## 6. Reasons behind Stroop Effect and other similar tasks\n",
    "\n",
    "The reason for this behavior is human brain can read the words automatically or faster then it takes to identify the color.  \n",
    "\n",
    "  * __Proofreading:__ Another similar example would be that human brain is adept at perceiving the whole word then recognizing each individual character and hence proofreading is difficult. \n",
    "\n",
    "  * __Numerical Stroop Effect:__. In the numerical variation of the stroop effect, the relationship between numerical values and their physical sizes is studied. Participants are asked to given two digits and asked to find the relationship between them but their physical sizes differ. Again in this case the congruent trial is easy when compared to incongruent trial. \n",
    "\n",
    "References:  \n",
    "https://en.wikipedia.org/wiki/Stroop_effect  \n",
    "http://www.snre.umich.edu/eplab/demos/st0/stroopdesc.html\n",
    "***"
   ]
  },
  {
   "cell_type": "code",
   "execution_count": null,
   "metadata": {
    "collapsed": true
   },
   "outputs": [],
   "source": []
  }
 ],
 "metadata": {
  "kernelspec": {
   "display_name": "Python 2",
   "language": "python",
   "name": "python2"
  },
  "language_info": {
   "codemirror_mode": {
    "name": "ipython",
    "version": 2
   },
   "file_extension": ".py",
   "mimetype": "text/x-python",
   "name": "python",
   "nbconvert_exporter": "python",
   "pygments_lexer": "ipython2",
   "version": "2.7.10"
  }
 },
 "nbformat": 4,
 "nbformat_minor": 0
}
